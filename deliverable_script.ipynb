{
 "cells": [
  {
   "cell_type": "code",
   "execution_count": 11,
   "metadata": {},
   "outputs": [],
   "source": [
    "import pandas as pd\n",
    "import seaborn as sns\n",
    "import numpy as np\n",
    "import matplotlib.pyplot as plt\n",
    "\n",
    "from scipy import stats\n",
    "from scipy.stats import yeojohnson\n",
    "\n",
    "\n",
    "from sklearn.model_selection import train_test_split\n",
    "from sklearn.preprocessing import LabelEncoder\n",
    "from sklearn.ensemble import RandomForestRegressor\n",
    "\n",
    "from sklearn.metrics import mean_squared_error\n",
    "from sklearn.preprocessing import StandardScaler"
   ]
  },
  {
   "cell_type": "code",
   "execution_count": 2,
   "metadata": {},
   "outputs": [],
   "source": [
    "df = pd.read_csv(\"./DF/train.csv\")"
   ]
  },
  {
   "cell_type": "code",
   "execution_count": 3,
   "metadata": {},
   "outputs": [],
   "source": [
    "# Null values for LotFrontage means that the houses have 0 feets since the street to the entrance, so the null values will be replaced with 0\n",
    "df[\"LotFrontage\"].fillna(\"None\", inplace=True)\n",
    "\n",
    "# Null values for Alley means that the houses dont have an alley entrance, so the null values will be replaced with None\n",
    "df[\"Alley\"].fillna(\"None\", inplace=True)\n",
    "\n",
    "# Null values for MasVnrType and MasVnrArea means that we dont know what kind of Masonry veneer type has the property or the area of it, since there are few null values here they will be replaced with None\n",
    "df[\"MasVnrType\"].fillna(\"None\", inplace=True)\n",
    "df[\"MasVnrArea\"].fillna(\"None\", inplace=True)\n",
    "\n",
    "# FireplaceQu will be filled with None since it's asociate to the reason that there isnt fireplaces.\n",
    "df[\"FireplaceQu\"].fillna(\"None\", inplace=True)\n",
    "\n",
    "# BsmtQual, BsmtCond, BsmtExposure, BsmtFinType1, and BsmtFinType2 are related and im not sure how to treat it now, so i'll leave it as is\n",
    "basement_columns=[\"BsmtQual\", \"BsmtCond\", \"BsmtExposure\", \"BsmtFinType1\", \"BsmtFinType2\"]\n",
    "df.loc[:, basement_columns] = df.loc[:, basement_columns].fillna(\"None\")\n",
    "\n",
    "# Since Electrical has only one null value I'll remove it (there are other fields of this row with null values)\n",
    "null_index = df[df[\"Electrical\"].isnull()].index\n",
    "df.drop(null_index, axis=0, inplace=True)\n",
    "\n",
    "# GarageType, GarageYrBlt, GarageFinish, GarageQual, GarageCond null values will be filled with None indicating that the hose doesnt have garage, it based on GarageCars and GarageArea that are 0 for those rows.\n",
    "garage_columns = [\"GarageType\", \"GarageYrBlt\", \"GarageFinish\", \"GarageQual\", \"GarageCond\"]\n",
    "df.loc[:, garage_columns] = df.loc[:, garage_columns].fillna(\"None\")\n",
    "\n",
    "# PoolQC, Fence and MiscFeature will be filled with None, indicating that there isnt pool, fence or anothe miscelaneous furniture, this desition is taking in account that other fields as the pool area that indicates the missing of it.\n",
    "other_columns = [\"PoolQC\", \"Fence\" ,\"MiscFeature\"]\n",
    "df.loc[:, other_columns] = df.loc[:, other_columns].fillna(\"None\")"
   ]
  },
  {
   "cell_type": "code",
   "execution_count": 4,
   "metadata": {},
   "outputs": [],
   "source": [
    "object_columns = df.select_dtypes(include=[\"object\"])\n",
    "df[object_columns.columns] = df[object_columns.columns].astype(\"category\")\n",
    "\n",
    "lbl = LabelEncoder()\n",
    "for column in object_columns.columns:\n",
    "    df[column] = lbl.fit_transform(df[column].astype(\"str\"))"
   ]
  },
  {
   "cell_type": "code",
   "execution_count": 5,
   "metadata": {},
   "outputs": [],
   "source": [
    "X = df.drop([\"SalePrice\"], axis=1)\n",
    "y = df[\"SalePrice\"]\n",
    "\n",
    "X_train, X_test, y_train, y_test = train_test_split(X, y, test_size=0.2)\n",
    "\n",
    "train_data = X_train.join(y_train)"
   ]
  },
  {
   "cell_type": "code",
   "execution_count": 12,
   "metadata": {},
   "outputs": [],
   "source": [
    "# Skewed Data\n",
    "skewed = [\"MSSubClass\", \"LotArea\", \"BsmtFinSF1\", \"BsmtUnfSF\", \"WoodDeckSF\", \"OpenPorchSF\", \"EnclosedPorch\", \"LotFrontage\", \"YearBuilt\", \"MasVnrArea\", \"GarageYrBlt\"]\n",
    "\n",
    "transformed_data = []\n",
    "lambda_values = []\n",
    "\n",
    "for column in skewed:\n",
    "    data, lambda_value = stats.yeojohnson(train_data[column])\n",
    "\n",
    "    transformed_data.append(data)\n",
    "    lambda_values.append(lambda_value)\n",
    "\n",
    "new_df = pd.DataFrame(transformed_data).T"
   ]
  },
  {
   "cell_type": "code",
   "execution_count": 14,
   "metadata": {},
   "outputs": [],
   "source": [
    "# Renaming columns of new df to the same names as on original df\n",
    "transformed_columns = dict()\n",
    "\n",
    "for i in range(len(skewed)):\n",
    "    transformed_columns[i] = skewed[i]\n",
    "\n",
    "new_df.rename(columns = transformed_columns, inplace=True)"
   ]
  },
  {
   "cell_type": "code",
   "execution_count": 15,
   "metadata": {},
   "outputs": [],
   "source": [
    "# Replacing the skewed data with the treated data\n",
    "train_data.drop(skewed, axis=1, inplace=True)\n",
    "\n",
    "for column in skewed:\n",
    "    train_data[column] = new_df[column]"
   ]
  },
  {
   "cell_type": "code",
   "execution_count": 16,
   "metadata": {},
   "outputs": [],
   "source": [
    "# Scaling Data\n",
    "scaler = StandardScaler()\n",
    "\n",
    "X_train_s = scaler.fit_transform(X_train)\n",
    "X_test_s = scaler.fit_transform(X_test)"
   ]
  },
  {
   "cell_type": "code",
   "execution_count": 18,
   "metadata": {},
   "outputs": [
    {
     "name": "stdout",
     "output_type": "stream",
     "text": [
      "Rmse =  25462.706122363827\n",
      "R2 =  0.8859015434503564\n"
     ]
    }
   ],
   "source": [
    "forest = RandomForestRegressor()\n",
    "forest.fit(X_train_s, y_train)\n",
    "\n",
    "y_pred = forest.predict(X_test_s)\n",
    "\n",
    "# Mean Square Error\n",
    "mse = mean_squared_error(y_test, y_pred)\n",
    "\n",
    "# Root Mean Square Error\n",
    "rmse = np.sqrt(mse)\n",
    "\n",
    "# Accuracy of the model\n",
    "acc = forest.score(X_test_s, y_test)\n",
    "\n",
    "print(\"Rmse = \", rmse)\n",
    "print(\"R2 = \", acc)"
   ]
  },
  {
   "cell_type": "code",
   "execution_count": null,
   "metadata": {},
   "outputs": [],
   "source": []
  }
 ],
 "metadata": {
  "kernelspec": {
   "display_name": "house_prices",
   "language": "python",
   "name": "python3"
  },
  "language_info": {
   "codemirror_mode": {
    "name": "ipython",
    "version": 3
   },
   "file_extension": ".py",
   "mimetype": "text/x-python",
   "name": "python",
   "nbconvert_exporter": "python",
   "pygments_lexer": "ipython3",
   "version": "3.11.4"
  },
  "orig_nbformat": 4
 },
 "nbformat": 4,
 "nbformat_minor": 2
}
